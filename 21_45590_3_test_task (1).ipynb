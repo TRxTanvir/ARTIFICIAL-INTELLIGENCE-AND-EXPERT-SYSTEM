{
  "nbformat": 4,
  "nbformat_minor": 0,
  "metadata": {
    "colab": {
      "provenance": []
    },
    "kernelspec": {
      "name": "python3",
      "display_name": "Python 3"
    },
    "language_info": {
      "name": "python"
    }
  },
  "cells": [
    {
      "cell_type": "code",
      "execution_count": 14,
      "metadata": {
        "id": "yqHCmz9Lh7e0"
      },
      "outputs": [],
      "source": [
        "\n",
        "# Graph representation (Adjacency list with weights)\n",
        "graph_updated = {\n",
        "    'A': [('B', 4), ('E', 9), ('F', 9)],\n",
        "    'B': [('C', 5), ('D', 9)],\n",
        "    'C': [('D', 5)],\n",
        "    'D': [('G', 5)],\n",
        "    'E': [('D', 9)],\n",
        "    'F': [('E', 9)],\n",
        "    'G': []\n",
        "}\n",
        "\n",
        "# Function to generate BFS traversal steps\n",
        "def bfs_steps(graph, start, goal):\n",
        "    visited = set()\n",
        "    queue = [(start, [start])]\n",
        "    steps = []  # To record the traversal steps\n",
        "\n",
        "    while queue:\n",
        "        current, path = queue.pop(0)\n",
        "        steps.append((current, path))  # Record the current node and path\n",
        "\n",
        "        if current == goal:\n",
        "            break\n",
        "\n",
        "        if current not in visited:\n",
        "            visited.add(current)\n",
        "            for neighbor, _ in graph[current]:\n",
        "                queue.append((neighbor, path + [neighbor]))\n",
        "\n",
        "    return steps\n",
        "\n",
        "\n"
      ]
    },
    {
      "cell_type": "code",
      "source": [
        "# Get BFS traversal steps for the updated graph\n",
        "bfs_traversal_steps = bfs_steps(graph_updated, 'A', 'G')\n",
        "bfs_traversal_steps\n"
      ],
      "metadata": {
        "colab": {
          "base_uri": "https://localhost:8080/"
        },
        "id": "J2q8Ou-ckUu4",
        "outputId": "e97f0f44-b2d0-4437-e672-777997329674"
      },
      "execution_count": 13,
      "outputs": [
        {
          "output_type": "execute_result",
          "data": {
            "text/plain": [
              "[('A', ['A']),\n",
              " ('B', ['A', 'B']),\n",
              " ('E', ['A', 'E']),\n",
              " ('F', ['A', 'F']),\n",
              " ('C', ['A', 'B', 'C']),\n",
              " ('D', ['A', 'B', 'D']),\n",
              " ('D', ['A', 'E', 'D']),\n",
              " ('E', ['A', 'F', 'E']),\n",
              " ('D', ['A', 'B', 'C', 'D']),\n",
              " ('G', ['A', 'B', 'D', 'G'])]"
            ]
          },
          "metadata": {},
          "execution_count": 13
        }
      ]
    },
    {
      "cell_type": "markdown",
      "source": [
        "**DFS**"
      ],
      "metadata": {
        "id": "ylxX8PoZj9uJ"
      }
    },
    {
      "cell_type": "code",
      "source": [
        " graph_updated = {\n",
        "    'A': [('B', 4), ('E', 9), ('F', 9)],\n",
        "    'B': [('C', 5), ('D', 9)],\n",
        "    'C': [('D', 5)],\n",
        "    'D': [('G', 5)],\n",
        "    'E': [('D', 9)],\n",
        "    'F': [('E', 9)],\n",
        "    'G': []\n",
        "}\n"
      ],
      "metadata": {
        "id": "_wJ4oubFj6EL"
      },
      "execution_count": 8,
      "outputs": []
    },
    {
      "cell_type": "code",
      "source": [
        "\n",
        "# Function to generate DFS traversal steps\n",
        "def dfs_steps(graph, start, goal, path=None, visited=None, steps=None):\n",
        "    if path is None:\n",
        "        path = [start]\n",
        "    if visited is None:\n",
        "        visited = set()\n",
        "    if steps is None:\n",
        "        steps = []\n",
        "\n",
        "    steps.append((start, path))  # Record the current node and path\n",
        "\n",
        "    if start == goal:\n",
        "        return steps\n",
        "\n",
        "    visited.add(start)\n",
        "\n",
        "    for neighbor, _ in graph[start]:\n",
        "        if neighbor not in visited:\n",
        "            dfs_steps(graph, neighbor, goal, path + [neighbor], visited, steps)\n",
        "            break  # Only go deeper until one branch completes for DFS\n",
        "\n",
        "    return steps\n",
        "\n"
      ],
      "metadata": {
        "id": "-WQfTfL-jm5j"
      },
      "execution_count": 9,
      "outputs": []
    },
    {
      "cell_type": "code",
      "source": [
        "# Get DFS traversal steps for the updated graph\n",
        "dfs_traversal_steps = dfs_steps(graph_updated, 'A', 'G')\n",
        "dfs_traversal_steps"
      ],
      "metadata": {
        "colab": {
          "base_uri": "https://localhost:8080/"
        },
        "id": "1wOeYUJgj3fH",
        "outputId": "1946d5a4-12d3-4426-a985-80ebb682b5a1"
      },
      "execution_count": 10,
      "outputs": [
        {
          "output_type": "execute_result",
          "data": {
            "text/plain": [
              "[('A', ['A']),\n",
              " ('B', ['A', 'B']),\n",
              " ('C', ['A', 'B', 'C']),\n",
              " ('D', ['A', 'B', 'C', 'D']),\n",
              " ('G', ['A', 'B', 'C', 'D', 'G'])]"
            ]
          },
          "metadata": {},
          "execution_count": 10
        }
      ]
    }
  ]
}